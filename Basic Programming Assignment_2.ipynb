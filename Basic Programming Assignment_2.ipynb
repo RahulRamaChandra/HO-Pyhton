{
 "cells": [
  {
   "cell_type": "markdown",
   "id": "713dab4f",
   "metadata": {},
   "source": [
    "1. Write a Python program to convert kilometers to miles?"
   ]
  },
  {
   "cell_type": "code",
   "execution_count": 12,
   "id": "de43373c",
   "metadata": {},
   "outputs": [
    {
     "name": "stdout",
     "output_type": "stream",
     "text": [
      "enter the distance travelled in kilometers: 10\n",
      "10.00 kilometers equal to 6.21 miles\n"
     ]
    }
   ],
   "source": [
    "kms =  float(input(\"enter the distance travelled in kilometers: \"))\n",
    "factor = 0.621371\n",
    "miles = kms * factor\n",
    "print(\"%0.2f kilometers equal to %0.2f miles\" %(kms , miles))"
   ]
  },
  {
   "cell_type": "markdown",
   "id": "7ba60a90",
   "metadata": {},
   "source": [
    "2. Write a Python program to convert Celsius to Fahrenheit?"
   ]
  },
  {
   "cell_type": "code",
   "execution_count": 13,
   "id": "976015b9",
   "metadata": {},
   "outputs": [
    {
     "name": "stdout",
     "output_type": "stream",
     "text": [
      "Enter the temparature in Celsius: 100\n",
      "100.0 Celsius temperature will be 212.0 Fahrenheit\n"
     ]
    }
   ],
   "source": [
    "cel = float(input(\"Enter the temparature in Celsius: \"))\n",
    "fah = (cel * 1.8) + 32\n",
    "print(\"%0.1f Celsius temperature will be %0.1f Fahrenheit\" %(cel,fah))"
   ]
  },
  {
   "cell_type": "markdown",
   "id": "3c45d771",
   "metadata": {},
   "source": [
    "3. Write a Python program to display calendar?"
   ]
  },
  {
   "cell_type": "code",
   "execution_count": 14,
   "id": "7dfb936c",
   "metadata": {},
   "outputs": [
    {
     "name": "stdout",
     "output_type": "stream",
     "text": [
      "Enter year: 1997\n",
      "Enter month: 4\n",
      "     April 1997\n",
      "Mo Tu We Th Fr Sa Su\n",
      "    1  2  3  4  5  6\n",
      " 7  8  9 10 11 12 13\n",
      "14 15 16 17 18 19 20\n",
      "21 22 23 24 25 26 27\n",
      "28 29 30\n",
      "\n"
     ]
    }
   ],
   "source": [
    "import calendar\n",
    "y = int(input(\"Enter year: \"))\n",
    "m  = int(input(\"Enter month: \"))\n",
    "print(calendar.month(y,m))"
   ]
  },
  {
   "cell_type": "markdown",
   "id": "6edf3557",
   "metadata": {},
   "source": [
    "4. Write a Python program to solve quadratic equation?"
   ]
  },
  {
   "cell_type": "code",
   "execution_count": 20,
   "id": "35581aa4",
   "metadata": {},
   "outputs": [
    {
     "name": "stdout",
     "output_type": "stream",
     "text": [
      "solutions are: (-1.25+1.1989578808281798j) and (-1.25-1.1989578808281798j) \n"
     ]
    }
   ],
   "source": [
    "import cmath\n",
    "a = 2\n",
    "b = 5\n",
    "c = 6\n",
    "d =(b**2) - (4*a*c)\n",
    "sol1 = (-b + cmath.sqrt(d)) / (2*a)\n",
    "sol2 = (-b - cmath.sqrt(d)) / (2*a)\n",
    "print(\"solutions are: {0} and {1} \" .format(sol1,sol2))"
   ]
  },
  {
   "cell_type": "markdown",
   "id": "c5af521d",
   "metadata": {},
   "source": [
    "5. Write a Python program to swap two variables without temp variable?"
   ]
  },
  {
   "cell_type": "code",
   "execution_count": 21,
   "id": "0f5f588a",
   "metadata": {},
   "outputs": [
    {
     "name": "stdout",
     "output_type": "stream",
     "text": [
      "x = 4 and y = 5\n"
     ]
    }
   ],
   "source": [
    "x = 5\n",
    "y = 4\n",
    "x,y = y,x\n",
    "print(\"x = {0} and y = {1}\" .format(x,y))"
   ]
  },
  {
   "cell_type": "code",
   "execution_count": null,
   "id": "7ff69a3a",
   "metadata": {},
   "outputs": [],
   "source": []
  }
 ],
 "metadata": {
  "kernelspec": {
   "display_name": "Python 3 (ipykernel)",
   "language": "python",
   "name": "python3"
  },
  "language_info": {
   "codemirror_mode": {
    "name": "ipython",
    "version": 3
   },
   "file_extension": ".py",
   "mimetype": "text/x-python",
   "name": "python",
   "nbconvert_exporter": "python",
   "pygments_lexer": "ipython3",
   "version": "3.9.7"
  }
 },
 "nbformat": 4,
 "nbformat_minor": 5
}
